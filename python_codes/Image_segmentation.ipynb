{
 "cells": [
  {
   "cell_type": "markdown",
   "id": "495439d8",
   "metadata": {},
   "source": [
    "Image segmentation includes:\n",
    "* Thresholding Techniques\n",
    "    * Simple Thresholding\n",
    "    * Ostu's Thresholding\n",
    "    * Adaptive Thresholding\n",
    "* Edge Based Segmentation\n",
    "    * \n",
    "    * \n",
    "    * \n",
    "* Region Based Segmentation\n",
    "    * \n",
    "    * "
   ]
  },
  {
   "cell_type": "markdown",
   "id": "f3c1bee0",
   "metadata": {},
   "source": [
    "# Thresholding Techiques"
   ]
  },
  {
   "cell_type": "markdown",
   "id": "dc611124",
   "metadata": {},
   "source": [
    "Import libraries"
   ]
  },
  {
   "cell_type": "code",
   "execution_count": 1,
   "id": "8ce3cad9",
   "metadata": {},
   "outputs": [],
   "source": [
    "import cv2\n",
    "import pydicom\n",
    "import numpy as np\n",
    "import matplotlib.pyplot as plt\n",
    "import matplotlib.image as mpimg"
   ]
  },
  {
   "cell_type": "markdown",
   "id": "9267fd1a",
   "metadata": {},
   "source": [
    "Import images"
   ]
  },
  {
   "cell_type": "code",
   "execution_count": 2,
   "id": "64490f03",
   "metadata": {},
   "outputs": [],
   "source": [
    "bdot =mpimg.imread(\"/home/sandzz/Documents/All documents/College/Study materials/8th sem /Medical_Image_Processing/Babaal_project/Images/blackdot.jpg\")\n",
    "atm =mpimg.imread(\"/home/sandzz/Documents/All documents/College/Study materials/8th sem /Medical_Image_Processing/Babaal_project/Images/atm.jpg\")\n",
    "box =mpimg.imread(\"/home/sandzz/Documents/All documents/College/Study materials/8th sem /Medical_Image_Processing/Babaal_project/Images/box.jpg\")"
   ]
  },
  {
   "cell_type": "code",
   "execution_count": null,
   "id": "9e6249a1",
   "metadata": {},
   "outputs": [
    {
     "ename": "error",
     "evalue": "OpenCV(4.11.0) /io/opencv/modules/imgproc/src/thresh.cpp:1679: error: (-215:Assertion failed) src.type() == CV_8UC1 in function 'adaptiveThreshold'\n",
     "output_type": "error",
     "traceback": [
      "\u001b[31m---------------------------------------------------------------------------\u001b[39m",
      "\u001b[31merror\u001b[39m                                     Traceback (most recent call last)",
      "\u001b[36mCell\u001b[39m\u001b[36m \u001b[39m\u001b[32mIn[4]\u001b[39m\u001b[32m, line 5\u001b[39m\n\u001b[32m      2\u001b[39m img = box\n\u001b[32m      4\u001b[39m \u001b[38;5;66;03m# Apply adaptive thresholding\u001b[39;00m\n\u001b[32m----> \u001b[39m\u001b[32m5\u001b[39m adaptive_mean = \u001b[43mcv2\u001b[49m\u001b[43m.\u001b[49m\u001b[43madaptiveThreshold\u001b[49m\u001b[43m(\u001b[49m\u001b[43mimg\u001b[49m\u001b[43m,\u001b[49m\u001b[43m \u001b[49m\u001b[32;43m255\u001b[39;49m\u001b[43m,\u001b[49m\u001b[43m \u001b[49m\u001b[43mcv2\u001b[49m\u001b[43m.\u001b[49m\u001b[43mADAPTIVE_THRESH_MEAN_C\u001b[49m\u001b[43m,\u001b[49m\u001b[43m \u001b[49m\u001b[43mcv2\u001b[49m\u001b[43m.\u001b[49m\u001b[43mTHRESH_BINARY\u001b[49m\u001b[43m,\u001b[49m\u001b[43m \u001b[49m\u001b[32;43m11\u001b[39;49m\u001b[43m,\u001b[49m\u001b[43m \u001b[49m\u001b[32;43m2\u001b[39;49m\u001b[43m)\u001b[49m\n\u001b[32m      7\u001b[39m \u001b[38;5;66;03m# Apply ostu's thresholding\u001b[39;00m\n\u001b[32m      8\u001b[39m _, otsu_threshold = cv2.threshold(img, \u001b[32m0\u001b[39m, \u001b[32m255\u001b[39m, cv2.THRESH_BINARY + cv2.THRESH_OTSU)\n",
      "\u001b[31merror\u001b[39m: OpenCV(4.11.0) /io/opencv/modules/imgproc/src/thresh.cpp:1679: error: (-215:Assertion failed) src.type() == CV_8UC1 in function 'adaptiveThreshold'\n"
     ]
    }
   ],
   "source": [
    "\n",
    "#Load image\n",
    "img = box\n",
    "\n",
    "# Apply adaptive thresholding\n",
    "adaptive_mean = cv2.adaptiveThreshold(img, 255, cv2.ADAPTIVE_THRESH_MEAN_C, cv2.THRESH_BINARY, 11, 2)\n",
    "\n",
    "# Apply ostu's thresholding\n",
    "_, otsu_threshold = cv2.threshold(img, 0, 255, cv2.THRESH_BINARY + cv2.THRESH_OTSU)\n"
   ]
  }
 ],
 "metadata": {
  "kernelspec": {
   "display_name": "myenv",
   "language": "python",
   "name": "python3"
  },
  "language_info": {
   "codemirror_mode": {
    "name": "ipython",
    "version": 3
   },
   "file_extension": ".py",
   "mimetype": "text/x-python",
   "name": "python",
   "nbconvert_exporter": "python",
   "pygments_lexer": "ipython3",
   "version": "3.12.3"
  }
 },
 "nbformat": 4,
 "nbformat_minor": 5
}
